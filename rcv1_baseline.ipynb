{
 "cells": [
  {
   "cell_type": "markdown",
   "id": "770c3558",
   "metadata": {},
   "source": [
    "# RCV1 Text Classification Baseline\n",
    "\n",
    "This notebook implements a strong baseline for the Reuters Corpus Volume I (RCV1) multi-label text classification task."
   ]
  }
 ],
 "metadata": {
  "language_info": {
   "name": "python"
  }
 },
 "nbformat": 4,
 "nbformat_minor": 5
}
